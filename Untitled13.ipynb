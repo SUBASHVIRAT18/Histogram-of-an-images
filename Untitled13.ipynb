{
 "cells": [
  {
   "cell_type": "markdown",
   "id": "93cc548b",
   "metadata": {},
   "source": [
    "# **NAME: SUBASH E** **REG NO:212223040209**\n",
    "\n",
    "\n",
    "\n",
    "\n",
    "\n",
    "\n",
    "\n",
    "import cv2\n",
    "import numpy as np\n",
    "import matplotlib.pyplot as plt\n",
    "\n",
    "image = cv2.imread('subash.jpg')\n",
    "\n",
    "gray_image = cv2.cvtColor(image, cv2.COLOR_BGR2GRAY)\n",
    "\n",
    "hist_original = cv2.calcHist([gray_image], [0], None, [256], [0, 256])\n",
    "\n",
    "equalized_image = cv2.equalizeHist(gray_image)\n",
    "\n",
    "hist_equalized = cv2.calcHist([equalized_image], [0], None, [256], [0, 256])\n",
    "\n",
    "plt.figure(figsize=(10, 7))\n",
    "\n",
    "plt.subplot(2, 2, 1)\n",
    "plt.imshow(gray_image, cmap='gray')\n",
    "plt.title('Original Grayscale Image')\n",
    "plt.axis('off')\n",
    "\n",
    "plt.subplot(2, 2, 2)\n",
    "plt.imshow(equalized_image, cmap='gray')\n",
    "plt.title('Equalized Image')\n",
    "plt.axis('off')\n",
    "\n",
    "plt.subplot(2, 2, 3)\n",
    "plt.plot(hist_original, color='black')\n",
    "plt.title('Original Histogram')\n",
    "plt.xlim([0, 256])\n",
    "\n",
    "\n",
    "\n",
    "plt.subplot(2, 2, 4)\n",
    "plt.plot(hist_equalized, color='black')\n",
    "plt.title('Equalized Histogram')\n",
    "plt.xlim([0, 256])\n",
    "\n",
    "plt.tight_layout()\n",
    "plt.show()\n",
    "\n"
   ]
  },
  {
   "cell_type": "code",
   "execution_count": 1,
   "id": "45a7ec59",
   "metadata": {},
   "outputs": [
    {
     "ename": "ModuleNotFoundError",
     "evalue": "No module named 'cv2'",
     "output_type": "error",
     "traceback": [
      "\u001b[1;31m---------------------------------------------------------------------------\u001b[0m",
      "\u001b[1;31mModuleNotFoundError\u001b[0m                       Traceback (most recent call last)",
      "Cell \u001b[1;32mIn[1], line 1\u001b[0m\n\u001b[1;32m----> 1\u001b[0m \u001b[38;5;28;01mimport\u001b[39;00m \u001b[38;5;21;01mcv2\u001b[39;00m\n\u001b[0;32m      2\u001b[0m \u001b[38;5;28;01mimport\u001b[39;00m \u001b[38;5;21;01mnumpy\u001b[39;00m \u001b[38;5;28;01mas\u001b[39;00m \u001b[38;5;21;01mnp\u001b[39;00m\n\u001b[0;32m      3\u001b[0m \u001b[38;5;28;01mimport\u001b[39;00m \u001b[38;5;21;01mmatplotlib\u001b[39;00m\u001b[38;5;21;01m.\u001b[39;00m\u001b[38;5;21;01mpyplot\u001b[39;00m \u001b[38;5;28;01mas\u001b[39;00m \u001b[38;5;21;01mplt\u001b[39;00m\n",
      "\u001b[1;31mModuleNotFoundError\u001b[0m: No module named 'cv2'"
     ]
    }
   ],
   "source": [
    "\n",
    "import cv2\n",
    "import numpy as np\n",
    "import matplotlib.pyplot as plt\n",
    "\n",
    "image = cv2.imread('subash.jpg')\n",
    "\n",
    "gray_image = cv2.cvtColor(image, cv2.COLOR_BGR2GRAY)\n",
    "\n",
    "hist_original = cv2.calcHist([gray_image], [0], None, [256], [0, 256])\n",
    "\n",
    "equalized_image = cv2.equalizeHist(gray_image)\n",
    "\n",
    "hist_equalized = cv2.calcHist([equalized_image], [0], None, [256], [0, 256])\n",
    "\n",
    "plt.figure(figsize=(10, 7))\n",
    "\n",
    "plt.subplot(2, 2, 1)\n",
    "plt.imshow(gray_image, cmap='gray')\n",
    "plt.title('Original Grayscale Image')\n",
    "plt.axis('off')\n",
    "\n",
    "plt.subplot(2, 2, 2)\n",
    "plt.imshow(equalized_image, cmap='gray')\n",
    "plt.title('Equalized Image')\n",
    "plt.axis('off')\n",
    "\n",
    "plt.subplot(2, 2, 3)\n",
    "plt.plot(hist_original, color='black')\n",
    "plt.title('Original Histogram')\n",
    "plt.xlim([0, 256])\n",
    "\n",
    "\n",
    "\n",
    "plt.subplot(2, 2, 4)\n",
    "plt.plot(hist_equalized, color='black')\n",
    "plt.title('Equalized Histogram')\n",
    "plt.xlim([0, 256])\n",
    "\n",
    "plt.tight_layout()\n",
    "plt.show()\n"
   ]
  },
  {
   "cell_type": "code",
   "execution_count": null,
   "id": "b7736398",
   "metadata": {},
   "outputs": [],
   "source": []
  },
  {
   "cell_type": "code",
   "execution_count": null,
   "id": "2ad2d817-3600-4256-90e1-09ae13c598cc",
   "metadata": {},
   "outputs": [],
   "source": []
  }
 ],
 "metadata": {
  "kernelspec": {
   "display_name": "Python 3 (ipykernel)",
   "language": "python",
   "name": "python3"
  },
  "language_info": {
   "codemirror_mode": {
    "name": "ipython",
    "version": 3
   },
   "file_extension": ".py",
   "mimetype": "text/x-python",
   "name": "python",
   "nbconvert_exporter": "python",
   "pygments_lexer": "ipython3",
   "version": "3.11.3"
  }
 },
 "nbformat": 4,
 "nbformat_minor": 5
}
